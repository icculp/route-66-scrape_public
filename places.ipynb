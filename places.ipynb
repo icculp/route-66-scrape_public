{
  "nbformat": 4,
  "nbformat_minor": 0,
  "metadata": {
    "colab": {
      "name": "places.ipynb",
      "provenance": [],
      "collapsed_sections": [],
      "include_colab_link": true
    },
    "kernelspec": {
      "name": "python3",
      "display_name": "Python 3"
    },
    "language_info": {
      "name": "python"
    }
  },
  "cells": [
    {
      "cell_type": "markdown",
      "metadata": {
        "id": "view-in-github",
        "colab_type": "text"
      },
      "source": [
        "<a href=\"https://colab.research.google.com/github/icculp/route-66-scrape_public/blob/master/places.ipynb\" target=\"_parent\"><img src=\"https://colab.research.google.com/assets/colab-badge.svg\" alt=\"Open In Colab\"/></a>"
      ]
    },
    {
      "cell_type": "code",
      "metadata": {
        "id": "_K9AICyzTeMv"
      },
      "source": [
        "from bs4 import BeautifulSoup\n",
        "import csv\n",
        "import json\n",
        "import pandas as pd\n",
        "import requests"
      ],
      "execution_count": 1,
      "outputs": []
    },
    {
      "cell_type": "code",
      "metadata": {
        "id": "9RIZfdSDZ9NY"
      },
      "source": [
        "columns = ['RoadTripStopTypeID',\n",
        "'CategoryID',\n",
        "'RoadTripStopName',\n",
        "'RoadTripStopDescription',\n",
        "'RoadTripStopAddressLine1',\n",
        "'RoadTripStopCity',\n",
        "'RoadTripStopState',\n",
        "'RoadTripStopZip',\n",
        "'RoadTripStopLat',\n",
        "'RoadTripStopLong',\n",
        "'RoadTripStopEmail',\n",
        "'RoadTripStopPhone',\n",
        "'TicketBookingURL',\n",
        "'Image',\n",
        "'EventDateTime',\n",
        "'RoadTripStopURL',\n",
        "'PlaceID',\n",
        "'SunOpen',\n",
        "'SunClose',\n",
        "'MonOpen',\n",
        "'MonClose',\n",
        "'TueOpen',\n",
        "'TueClose',\n",
        "'WedOpen',\n",
        "'WedClose', \n",
        "'ThurOpen',\n",
        "'ThurClose',\n",
        "'FriOpen',\n",
        "'FriClose',\n",
        "'SatOpen',\n",
        "'SatClose']"
      ],
      "execution_count": 2,
      "outputs": []
    },
    {
      "cell_type": "markdown",
      "metadata": {
        "id": "Ki32ojkoJ43N"
      },
      "source": [
        "You can either copy/paste the dictionary output from the script historic66 outputs, or load the data in from file. In colab you can upload to session storage"
      ]
    },
    {
      "cell_type": "code",
      "metadata": {
        "id": "8xTLoiIfImzT"
      },
      "source": [
        "# places = {}\n",
        "# print(len(places))"
      ],
      "execution_count": 3,
      "outputs": []
    },
    {
      "cell_type": "code",
      "metadata": {
        "id": "BtNaoV2wRNKB"
      },
      "source": [
        "!ls"
      ],
      "execution_count": null,
      "outputs": []
    },
    {
      "cell_type": "code",
      "metadata": {
        "id": "SLLYHjBfIpk7"
      },
      "source": [
        "filename = 'historic66.json'\n",
        "with open(filename, 'r', encoding='utf-8') as f:\n",
        "    places = json.load(f)\n",
        "print(len(places))\n",
        "# dict(list(places.items())[0:5])  # preview places"
      ],
      "execution_count": null,
      "outputs": []
    },
    {
      "cell_type": "code",
      "metadata": {
        "id": "j9h7FDfPUfBB"
      },
      "source": [
        "key = ''  # leaving key out of repo for "
      ],
      "execution_count": 13,
      "outputs": []
    },
    {
      "cell_type": "code",
      "metadata": {
        "id": "diXFkUgMJrRe"
      },
      "source": [
        "Places_final = dict()\n",
        "periods_default = dict()\n",
        "i = 0\n",
        "no_candidates = []\n",
        "for Place, details in places.items():\n",
        "    address = details['address']\n",
        "    Description = details['description']\n",
        "    Image = details['image']\n",
        "    print(Place, end='')\n",
        "    append = Place.replace(' ', '%20') + '%20' + address.replace(' ', '%20').replace('\\n', '%20')\n",
        "    pid = requests.get('https://maps.googleapis.com/maps/api/place/findplacefromtext/json?input=' + append + '&inputtype=textquery&key=' + key)\n",
        "    try:\n",
        "        Place_id = pid.json()['candidates'][0].get('place_id')\n",
        "    except:\n",
        "        no_candidates.append([Place, address, Description, Image])\n",
        "        print(\"\\nNo candidates for [{}], [{}], skipping\".format(Place, address.replace('\\n', ' ')))\n",
        "        i += 1\n",
        "        print(i, end='..')\n",
        "        continue\n",
        "    p =  requests.get('https://maps.googleapis.com/maps/api/place/details/json?place_id=' + Place_id + '&key=' + key)\n",
        "    result = p.json()['result']\n",
        "\n",
        "    adr_address = result.get('adr_address', 'NULL')\n",
        "    soup = BeautifulSoup(adr_address, features=\"html.parser\")\n",
        "    Address = soup.find(\"span\", {\"class\": \"street-address\"}).text if soup.find(\"span\", {\"class\": \"street-address\"}) is not None else \"NULL\"\n",
        "    City = soup.find(\"span\", {\"class\": \"locality\"}).text if soup.find(\"span\", {\"class\": \"locality\"}) is not None else \"NULL\"\n",
        "    State = soup.find(\"span\", {\"class\": \"region\"}).text if soup.find(\"span\", {\"class\": \"region\"}) is not None else \"NULL\"\n",
        "    Zip = soup.find(\"span\", {\"postal-code\"}).text if soup.find(\"span\", {\"class\": \"postal-code\"}) is not None else \"NULL\"\n",
        "\n",
        "    Lat = str(result.get('geometry', 'NULL').get('location', 'NULL').get('lat', 'NULL'))\n",
        "    Long = str(result.get('geometry', 'NULL').get('location', 'NULL').get('lng', 'NULL'))\n",
        "    Email = 'NULL'\n",
        "    Phone = result.get('formatted_phone_number', 'NULL')\n",
        "    BookingUrl = result.get('website', 'NULL')\n",
        "    URL = result.get('url', 'NULL')\n",
        "\n",
        "    Periods = result.get('opening_hours')\n",
        "    days = {j: {'open': 'NULL', 'close': 'NULL'} for j in range(7)}\n",
        "    if Periods is not None:\n",
        "        for day in Periods['periods']: \n",
        "            for k, v in day.items():\n",
        "                timeForm = v.get('time')\n",
        "                timeForm = timeForm[:2] + ':' + timeForm[2:]\n",
        "                days[v['day']].update({k: timeForm})\n",
        "    hoo = []  # hours of operation\n",
        "    for k, d in days.items():\n",
        "        hoo.append(d.get('open'))\n",
        "        hoo.append(d.get('close'))\n",
        "\n",
        "    line_items = [str(2), 'NULL', Place, Description, Address, City, State, Zip, Lat, Long, Email, Phone, BookingUrl, Image, 'NULL', URL, Place_id]\n",
        "    line_items += hoo  # [SunOpen, SunClose, MonOpen, MonClose, TueOpen, TueClose, WedOpen, WedClose, ThurOpen, ThurClose, FriOpen, FriClose, SatOpen, SatClose]\n",
        "    Places_final.update({Place_id: line_items})\n",
        "\n",
        "    i += 1\n",
        "    #if i == 5:\n",
        "    #    break\n",
        "    print(i, end='..')"
      ],
      "execution_count": null,
      "outputs": []
    },
    {
      "cell_type": "code",
      "metadata": {
        "id": "-TAKTkS2fYRg"
      },
      "source": [
        "print(\"No candidates found for the following items, totalling {} places\".format(len(no_candidates)))\n",
        "no_candidates"
      ],
      "execution_count": null,
      "outputs": []
    },
    {
      "cell_type": "code",
      "metadata": {
        "id": "vV925WidOzN_"
      },
      "source": [
        "# dict(list(Places_final.items())[0:5])  # preview places"
      ],
      "execution_count": null,
      "outputs": []
    },
    {
      "cell_type": "code",
      "metadata": {
        "id": "e9mdcb3zVIuJ"
      },
      "source": [
        "Lines_final = list()\n",
        "\n",
        "for plc_id, plc_line in Places_final.items():\n",
        "    '''line_string = ''\n",
        "    for item in range(len(plc_line)):\n",
        "        line_string += str(plc_line[item])\n",
        "        if item != len(plc_line) - 1:\n",
        "            line_string += '|'''\n",
        "    Lines_final.append(plc_line)\n",
        "# Lines_final"
      ],
      "execution_count": null,
      "outputs": []
    },
    {
      "cell_type": "code",
      "metadata": {
        "id": "a19xXG0haNZP"
      },
      "source": [
        "df_final = pd.DataFrame(Lines_final, columns=columns)\n",
        "print(len(df_final))\n",
        "df_final"
      ],
      "execution_count": null,
      "outputs": []
    },
    {
      "cell_type": "code",
      "metadata": {
        "id": "dquvXt9AgAg6"
      },
      "source": [
        "fileName = 'places_final.txt'\n",
        "df_final.to_csv(fileName, sep=\"|\", quoting=csv.QUOTE_NONNUMERIC, index=False)"
      ],
      "execution_count": null,
      "outputs": []
    },
    {
      "cell_type": "code",
      "metadata": {
        "id": "7S06QddngIau"
      },
      "source": [
        "!ls"
      ],
      "execution_count": null,
      "outputs": []
    }
  ]
}