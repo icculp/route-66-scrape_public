{
 "cells": [
  {
   "cell_type": "markdown",
   "metadata": {
    "colab_type": "text",
    "id": "view-in-github"
   },
   "source": [
    "<a href=\"https://colab.research.google.com/github/icculp/route-66-scrape_public/blob/master/historic66.ipynb\" target=\"_parent\"><img src=\"https://colab.research.google.com/assets/colab-badge.svg\" alt=\"Open In Colab\"/></a>"
   ]
  },
  {
   "cell_type": "markdown",
   "metadata": {},
   "source": [
    "Should run for 19 pages; if it errors much before try running the script again"
   ]
  },
  {
   "cell_type": "code",
   "execution_count": 15,
   "metadata": {
    "collapsed": true,
    "id": "xMVMfpWMYU3Y"
   },
   "outputs": [],
   "source": [
    "# !pip install kora -q\n",
    "!pip install selenium\n",
    "!apt-get update\n",
    "!apt install chromium-chromedriver"
   ]
  },
  {
   "cell_type": "code",
   "execution_count": null,
   "metadata": {
    "colab": {
     "base_uri": "https://localhost:8080/"
    },
    "collapsed": false,
    "id": "zMcWx0VBYOs5",
    "outputId": "b0bff703-2643-45d6-ec71-6ecaa344d7d2"
   },
   "outputs": [],
   "source": [
    "from selenium import webdriver\n",
    "from selenium.webdriver.common.keys import Keys\n",
    "# from kora.selenium import wd as browser\n",
    "\n",
    "# browser = wd\n",
    "\n",
    "\n",
    "def name_url():\n",
    "    # from kora.selenium import wd as browser\n",
    "\n",
    "    chrome_options = webdriver.ChromeOptions()\n",
    "    chrome_options.add_argument('--headless')\n",
    "    chrome_options.add_argument('--disable-dev-shm-usage')\n",
    "    chrome_options.add_argument('--no-sandbox')\n",
    "    # browser = webdriver.Chrome('chromedriver', options=chrome_options)\n",
    "\n",
    "    page_number = 1\n",
    "    name_url = {}\n",
    "\n",
    "    while (1):\n",
    "        try:\n",
    "            # url for each point of interest page\n",
    "            url = 'https://www.historic66.com/points-of-interest/?filter=active&state=oklahoma&list=' + str(page_number)\n",
    "            browser = webdriver.Chrome(options=chrome_options)\n",
    "            # browser.implicitly_wait(3)\n",
    "            browser.get(url)\n",
    "            print(\"page number: {}\".format(page_number))\n",
    "            for i in range(1, 10):\n",
    "                select_link = 'body > main > section.content-section > div > div.tabs-block.filter-block > div > div.tabs-panes.content-block-main.border-content > div.left-content.content-ajax > div > div.gallery-block-filter.flex-blocks > a:nth-child(' + str(i) + ')'\n",
    "                selector = 'body > main > section.content-section > div > div.tabs-block.filter-block > div > div.tabs-panes.content-block-main.border-content > div.left-content.content-ajax > div > div.gallery-block-filter.flex-blocks > a:nth-child(' + str(i) + ') > span'\n",
    "                selected_name = browser.find_element_by_css_selector(selector).text\n",
    "                selected_link = browser.find_element_by_css_selector(select_link).get_attribute('href')\n",
    "                print(\"selected_name: {} selected_link: {}\".format(selected_name, selected_link))\n",
    "\n",
    "                name_url.update({selected_name: selected_link})\n",
    "\n",
    "            page_number += 1\n",
    "        except Exception as e:\n",
    "            print(\"Error {}\".format(e))\n",
    "            break\n",
    "        finally:\n",
    "            browser.quit()\n",
    "    return name_url\n",
    "\n",
    "\n",
    "def name_address(name_url):\n",
    "    # from kora.selenium import wd as browser\n",
    "\n",
    "    chrome_options = webdriver.ChromeOptions()\n",
    "    chrome_options.add_argument('--headless')\n",
    "    chrome_options.add_argument('--disable-dev-shm-usage')\n",
    "    chrome_options.add_argument('--no-sandbox')\n",
    "\n",
    "    name_address = {}\n",
    "\n",
    "    for name, url in name_url.items():\n",
    "        try:\n",
    "            browser = webdriver.Chrome(options=chrome_options)\n",
    "            browser.implicitly_wait(1)\n",
    "            browser.get(url)\n",
    "            try:\n",
    "                address = browser.find_element_by_css_selector('body > main > section.content-section > div > div.poi-detail.border-content.content-block-main > div.left-content > div.padding-carousel.border-block > div.information-poi > div > div:nth-child(2) > p').text\n",
    "            except:\n",
    "                print('{} address NULL'.format(name))\n",
    "                address = 'NULL'\n",
    "            try:\n",
    "                description = browser.find_element_by_css_selector('body > main > section.content-section > div > div.poi-detail.border-content.content-block-main > div.left-content > div.padding-carousel.border-block > div.information-poi > p').text\n",
    "            except:\n",
    "                print('{} description NULL'.format(name))\n",
    "                descrption = 'NULL'\n",
    "            try:\n",
    "                image = browser.find_element_by_css_selector('body > main > section.content-section > div > div.poi-detail.border-content.content-block-main > div.left-content > div.padding-carousel.border-block > div.carousel-block > img').get_attribute(\"src\")\n",
    "            except:\n",
    "                print('{} image NULL'.format(name))\n",
    "                image = 'NULL'\n",
    "            \n",
    "            print(\"NAME: {} \\n\\tADDRESS: {} \\n\\tDESCRIPTION: {} \\n\\tIMAGE: {}\".format(name, address, description, image))\n",
    "            name_address.update({name: {'address': address.replace('\\n', ' '), 'description': description, 'image': image}})\n",
    "        except Exception as e:\n",
    "            print(\"Error {}\".format(e))\n",
    "            break\n",
    "        finally:\n",
    "            browser.quit()\n",
    "\n",
    "    return name_address"
   ]
  },
  {
   "cell_type": "code",
   "execution_count": null,
   "metadata": {
    "collapsed": true
   },
   "outputs": [],
   "source": [
    "nurls = name_url()"
   ]
  },
  {
   "cell_type": "code",
   "execution_count": null,
   "metadata": {
    "collapsed": true,
    "id": "AemNGJj6atsT"
   },
   "outputs": [],
   "source": [
    "jayson = name_address(nurls)"
   ]
  },
  {
   "cell_type": "code",
   "execution_count": null,
   "metadata": {
    "collapsed": true
   },
   "outputs": [],
   "source": [
    "print(jayson)\n",
    "print(len(jayson))"
   ]
  },
  {
   "cell_type": "code",
   "execution_count": null,
   "metadata": {
    "collapsed": true
   },
   "outputs": [],
   "source": [
    "import json\n",
    "\n",
    "filename = 'historic66.json'\n",
    "with open(filename, 'w', encoding='utf-8') as f:\n",
    "    json.dump(jayson, f)"
   ]
  }
 ],
 "metadata": {
  "anaconda-cloud": {},
  "colab": {
   "authorship_tag": "ABX9TyOOAhceukDBQluG736c0Y8z",
   "collapsed_sections": [],
   "include_colab_link": true,
   "name": "Untitled12.ipynb",
   "provenance": []
  },
  "kernelspec": {
   "display_name": "Python [default]",
   "language": "python",
   "name": "python3"
  },
  "language_info": {
   "codemirror_mode": {
    "name": "ipython",
    "version": 3
   },
   "file_extension": ".py",
   "mimetype": "text/x-python",
   "name": "python",
   "nbconvert_exporter": "python",
   "pygments_lexer": "ipython3",
   "version": "3.5.2"
  }
 },
 "nbformat": 4,
 "nbformat_minor": 0
}
